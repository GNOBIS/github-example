#This notebook will be used for for the Captone Project
import numpy as np
import pandas as pd
print("Hello Capstone Project Course!")
